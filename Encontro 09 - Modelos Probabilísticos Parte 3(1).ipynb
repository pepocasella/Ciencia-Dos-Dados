{
 "cells": [
  {
   "cell_type": "code",
   "execution_count": null,
   "metadata": {
    "collapsed": true
   },
   "outputs": [],
   "source": []
  },
  {
   "cell_type": "markdown",
   "metadata": {},
   "source": [
    "#Encontro 09\n",
    "\n",
    "**Preparo Prévio:**\n",
    "1. Leitura prévia necessária: Magalhães e Lima (7ª. Edição): Seção 6.2 (pág. 189).\n",
    "\n",
    "**Hoje:**\n",
    "1. Descrever modelos contínuos quanto aos resultados teóricos.\n",
    "2. Explicar a utilização de modelos probabilísticos no contexto da literatura estatística.\n",
    "3. Contrastar resultados teóricos e empíricos.\n",
    "4. Fechamento do conteúdo.\n",
    "\n",
    "**Próxima aula:**\n",
    "> 1. Leitura prévia necessária: Magalhães e Lima (7ª. Edição): Seção 5.1 (pág. 137) e Seção 5.2 (pág. 146)."
   ]
  },
  {
   "cell_type": "code",
   "execution_count": 1,
   "metadata": {
    "collapsed": true
   },
   "outputs": [],
   "source": [
    "%matplotlib inline\n",
    "\n",
    "import os\n",
    "import matplotlib.pyplot as plt\n",
    "import pandas as pd\n",
    "from scipy import stats"
   ]
  },
  {
   "cell_type": "markdown",
   "metadata": {},
   "source": [
    "Nessa aula, teremos contato com algumas distribuições contínuas e como essas podem ser utilizadas para modelagem de dados reais.\n",
    "\n",
    "**Distribuição Exponencial**\n",
    "\n",
    "A distribuição Exponencial é conhecida, principalmente, por sua adequação na modelagem de variáveis que descrevem tempo de vida de produtos e materiais. Teoricamente, a função densidade de probabilidade (FDP) de uma distribuição Exponencial com parâmetro $\\alpha$, com $\\alpha > 0$, é definida por:\n",
    "\n",
    "$$f(x;\\alpha) = f(x) = \\alpha e^{-\\alpha x},$$\n",
    "\n",
    "com $x \\geq 0$. Quando uma variável $X$ tem distribuição Exponencial com parâmetro $\\alpha$, pode-se afirmar que sua esperança e variância são dadas, respectivamente, por $E(X) = \\frac{1}{\\alpha}$ e $\\mathrm{Var}(X) = \\frac{1}{\\alpha^2}$.\n",
    "\n",
    "A Figura 1 mostra a distribuição Exponencial para alguns valores do parâmetro $\\alpha = \\frac{1}{2}; 1; \\frac{3}{2}; 3$.\n",
    "\n",
    "<img src=\"Exponencial1.png\"/>\n",
    "<center><sup>**Figura 1.** Função densidade de probabilidade da Exponencial para alguns valores de $\\alpha$.</sup></center>\n",
    "\n",
    "Para calcular a probabilidade da variável $X$ não exceder um valor $k$, é necessário obter a área abaixo da curva até esse ponto, isto é, calcular por integral a $P(X \\leq k)$. Essa probabilidade pode ser obtida pela função de distribuição acumulada (FDA) no ponto $k$ que, no caso da Exponencial, é dada por:\n",
    "\n",
    "$$F(k) = P(X \\leq k) = \\int^k_0 \\alpha e^{-\\alpha x} dx = 1 - e^{-\\alpha k}$$\n",
    "\n",
    "A Figura 2 mostra a função de distribuição acumulada da Exponencial para alguns valores do parâmetro $\\alpha = \\frac{1}{2}; 1; \\frac{3}{2}; 3$.\n",
    "\n",
    "<img src=\"Exponencial2.png\"/>\n",
    "<center><sup>**Figura 2.** Função de distribuição acumulada da Exponencial para alguns valores de $\\alpha$.</sup></center>\n",
    "\n",
    "Como notação, utiliza-se $X \\sim \\mathrm{Exp}(\\alpha)$ e lê-se: “a variável $X$ segue uma distribuição Exponencial com parâmetro $\\alpha$”."
   ]
  },
  {
   "cell_type": "markdown",
   "metadata": {},
   "source": [
    "> **O que ajuda e o que atrapalha as vendas pela internet**\n",
    "\n",
    "> *Assim como no desenho animado da Warner em que o Coiote persegue o Papa-Léguas, na internet o mais rápido leva a melhor. Um levantamento recente da consultoria americana Aberdeen Group mostra que, a cada segundo que uma página de uma loja online demora para carregar, há uma queda de 7% na conversão de vendas.*\n",
    "\n",
    "> <sup>Fonte: http://exame.abril.com.br/revista-exame-pme/edicoes/75/noticias/venda-muito-mais-pela-internet</sup>"
   ]
  },
  {
   "cell_type": "markdown",
   "metadata": {},
   "source": [
    "1) Considere a variável $T$: tempo, em segundos, para abertura de um site de loja virtual de domínio brasileiro com média igual a $1.03$ segundos e que essa variável seja modelada por uma distribuição Exponencial.\n",
    "\n",
    "1.1. A linha de comando descrita a seguir carrega uma base de dados com uma amostra dos tempos de carregamento de 100 lojas virtuais. \n",
    "\n",
    "\n",
    "\n",
    "Sabe-se que, se coincidirem com a distribuição teórica, os dados concordariam com uma distribuição exponencial  $T \\sim \\mathrm{Exp}\\left(\\frac{1}{1.03}\\right)$. \n",
    "\n",
    "Compare a média (valor esperado) e a variância da amostra com as da distribuição exponencial com $\\alpha = \\left(\\frac{1}{1.03}\\right) $. A amostra seria bem modelada (ou seja descrita, resumida) por esta distribuição?"
   ]
  },
  {
   "cell_type": "code",
   "execution_count": 2,
   "metadata": {
    "collapsed": false
   },
   "outputs": [],
   "source": [
    "tempos = pd.Series.from_csv(\"tempos.csv\")"
   ]
  },
  {
   "cell_type": "code",
   "execution_count": 3,
   "metadata": {
    "collapsed": false
   },
   "outputs": [
    {
     "data": {
      "text/plain": [
       "0.8596562354426177"
      ]
     },
     "execution_count": 3,
     "metadata": {},
     "output_type": "execute_result"
    }
   ],
   "source": [
    "media_real = tempos.mean()\n",
    "media_real"
   ]
  },
  {
   "cell_type": "code",
   "execution_count": 4,
   "metadata": {
    "collapsed": false
   },
   "outputs": [
    {
     "data": {
      "text/plain": [
       "1.03"
      ]
     },
     "execution_count": 4,
     "metadata": {},
     "output_type": "execute_result"
    }
   ],
   "source": [
    "alfa = 1/1.03\n",
    "media_esperada = 1/alfa\n",
    "media_esperada"
   ]
  },
  {
   "cell_type": "code",
   "execution_count": 5,
   "metadata": {
    "collapsed": false
   },
   "outputs": [
    {
     "data": {
      "text/plain": [
       "0.9103308633357287"
      ]
     },
     "execution_count": 5,
     "metadata": {},
     "output_type": "execute_result"
    }
   ],
   "source": [
    "variancia_real = tempos.var()\n",
    "variancia_real"
   ]
  },
  {
   "cell_type": "code",
   "execution_count": 6,
   "metadata": {
    "collapsed": false
   },
   "outputs": [
    {
     "data": {
      "text/plain": [
       "1.0609"
      ]
     },
     "execution_count": 6,
     "metadata": {},
     "output_type": "execute_result"
    }
   ],
   "source": [
    "variancia_esperada = 1/(alfa)**2\n",
    "variancia_esperada"
   ]
  },
  {
   "cell_type": "code",
   "execution_count": 7,
   "metadata": {
    "collapsed": true
   },
   "outputs": [],
   "source": [
    "#a amostra não seria bem modelada uma vez que as medias são diferentes"
   ]
  },
  {
   "cell_type": "markdown",
   "metadata": {},
   "source": [
    "1.2. Graficamente, há algumas opções para levantar indícios se uma distribuição de probabilidade irá fornecer um ajuste razoável aos dados. Dentre essas opções, temos:\n",
    "\n",
    "* Histograma dos dados *versus* função densidade de probabilidade teórica."
   ]
  },
  {
   "cell_type": "code",
   "execution_count": 8,
   "metadata": {
    "collapsed": false
   },
   "outputs": [
    {
     "data": {
      "text/plain": [
       "[<matplotlib.lines.Line2D at 0x821c668>]"
      ]
     },
     "execution_count": 8,
     "metadata": {},
     "output_type": "execute_result"
    },
    {
     "data": {
      "image/png": "[encoded data removed]",
      "text/plain": [
       "<matplotlib.figure.Figure at 0x821c6a0>"
      ]
     },
     "metadata": {},
     "output_type": "display_data"
    }
   ],
   "source": [
    "mu = 1.03\n",
    "n = 100\n",
    "\n",
    "# histograma e densidade teórica\n",
    "pd.DataFrame.plot(kind='hist', data=tempos, bins=range(0, 11), normed=True, legend=False)\n",
    "a = pd.Series(range(1, 1001)) / 100\n",
    "plt.plot(a, stats.expon.pdf(a, scale=mu), '-', color='red')"
   ]
  },
  {
   "cell_type": "code",
   "execution_count": 9,
   "metadata": {
    "collapsed": true
   },
   "outputs": [],
   "source": [
    "#Nesse modelo a função densidade de probabilidade teorica representa de certa forma razoavel os dados coletados"
   ]
  },
  {
   "cell_type": "markdown",
   "metadata": {},
   "source": [
    "* Quantis empíricos (dados ordenados) *versus* quantis teóricos."
   ]
  },
  {
   "cell_type": "code",
   "execution_count": 10,
   "metadata": {
    "collapsed": false
   },
   "outputs": [
    {
     "data": {
      "text/plain": [
       "[<matplotlib.lines.Line2D at 0x82c48d0>]"
      ]
     },
     "execution_count": 10,
     "metadata": {},
     "output_type": "execute_result"
    },
    {
     "data": {
      "image/png": "[encoded data removed]",
      "text/plain": [
       "<matplotlib.figure.Figure at 0x81e8f28>"
      ]
     },
     "metadata": {},
     "output_type": "display_data"
    }
   ],
   "source": [
    "# dados ordenados e quantis teóricos - QQplot\n",
    "#tempos = tempos.copy()\n",
    "tempos = tempos.sort(inplace=False)\n",
    "fra = [] # frequencia relativa acumulada\n",
    "for i in range(n):\n",
    "  fra.append((i + 0.5) / n) # ver Magalhães e Lima (pag. 195)\n",
    "\n",
    "q = stats.expon.ppf(fra, scale=mu) # quantis teóricos\n",
    "\n",
    "plt.plot(tempos, q, 'o')\n",
    "plt.plot((min(tempos), max(tempos)), (min(tempos), max(tempos)), '-')"
   ]
  },
  {
   "cell_type": "code",
   "execution_count": 11,
   "metadata": {
    "collapsed": true
   },
   "outputs": [],
   "source": [
    "#Esse modelo descreve os dados obtidos bem, uma vez que o modelo indica crescimento, porem parte dos dados reais não crescem na proporção de 1 para 1 como o modelo indica. \n"
   ]
  },
  {
   "cell_type": "markdown",
   "metadata": {},
   "source": [
    "* Frequência relativa acumulada (a partir dos dados) *versus* função de distribuição acumulada."
   ]
  },
  {
   "cell_type": "code",
   "execution_count": 12,
   "metadata": {
    "collapsed": false,
    "scrolled": true
   },
   "outputs": [
    {
     "data": {
      "text/plain": [
       "[<matplotlib.lines.Line2D at 0x82cc4a8>]"
      ]
     },
     "execution_count": 12,
     "metadata": {},
     "output_type": "execute_result"
    },
    {
     "data": {
      "image/png": "[encoded data removed]",
      "text/plain": [
       "<matplotlib.figure.Figure at 0x82cc860>"
      ]
     },
     "metadata": {},
     "output_type": "display_data"
    }
   ],
   "source": [
    "# fra e FDA\n",
    "fda = stats.expon.cdf(tempos, scale=mu) #FDA\n",
    "\n",
    "plt.plot(tempos, fra, '-', color='black')\n",
    "plt.plot(tempos, fda, '-', color='red')"
   ]
  },
  {
   "cell_type": "code",
   "execution_count": 13,
   "metadata": {
    "collapsed": true
   },
   "outputs": [],
   "source": [
    "# Modelo da função de distribuição acumulada para certo valores de segundos representa os dados coerentemente. Para valores entre 0,5 segundo \n",
    "#a 2,5 segundo os dados reais divergem do modelo"
   ]
  },
  {
   "cell_type": "code",
   "execution_count": 14,
   "metadata": {
    "collapsed": true
   },
   "outputs": [],
   "source": [
    "#1.3"
   ]
  },
  {
   "cell_type": "code",
   "execution_count": 15,
   "metadata": {
    "collapsed": false
   },
   "outputs": [
    {
     "data": {
      "text/html": [
       "<div>\n",
       "<table border=\"1\" class=\"dataframe\">\n",
       "  <thead>\n",
       "    <tr style=\"text-align: right;\">\n",
       "      <th></th>\n",
       "      <th>0</th>\n",
       "    </tr>\n",
       "  </thead>\n",
       "  <tbody>\n",
       "    <tr>\n",
       "      <th>0.012487</th>\n",
       "      <td>0.005</td>\n",
       "    </tr>\n",
       "    <tr>\n",
       "      <th>0.022013</th>\n",
       "      <td>0.015</td>\n",
       "    </tr>\n",
       "    <tr>\n",
       "      <th>0.030483</th>\n",
       "      <td>0.025</td>\n",
       "    </tr>\n",
       "    <tr>\n",
       "      <th>0.044699</th>\n",
       "      <td>0.035</td>\n",
       "    </tr>\n",
       "    <tr>\n",
       "      <th>0.049616</th>\n",
       "      <td>0.045</td>\n",
       "    </tr>\n",
       "    <tr>\n",
       "      <th>0.062769</th>\n",
       "      <td>0.055</td>\n",
       "    </tr>\n",
       "    <tr>\n",
       "      <th>0.063465</th>\n",
       "      <td>0.065</td>\n",
       "    </tr>\n",
       "    <tr>\n",
       "      <th>0.073222</th>\n",
       "      <td>0.075</td>\n",
       "    </tr>\n",
       "    <tr>\n",
       "      <th>0.095159</th>\n",
       "      <td>0.085</td>\n",
       "    </tr>\n",
       "    <tr>\n",
       "      <th>0.110958</th>\n",
       "      <td>0.095</td>\n",
       "    </tr>\n",
       "    <tr>\n",
       "      <th>0.112647</th>\n",
       "      <td>0.105</td>\n",
       "    </tr>\n",
       "    <tr>\n",
       "      <th>0.113147</th>\n",
       "      <td>0.115</td>\n",
       "    </tr>\n",
       "    <tr>\n",
       "      <th>0.130403</th>\n",
       "      <td>0.125</td>\n",
       "    </tr>\n",
       "    <tr>\n",
       "      <th>0.135171</th>\n",
       "      <td>0.135</td>\n",
       "    </tr>\n",
       "    <tr>\n",
       "      <th>0.148899</th>\n",
       "      <td>0.145</td>\n",
       "    </tr>\n",
       "    <tr>\n",
       "      <th>0.160892</th>\n",
       "      <td>0.155</td>\n",
       "    </tr>\n",
       "    <tr>\n",
       "      <th>0.181417</th>\n",
       "      <td>0.165</td>\n",
       "    </tr>\n",
       "    <tr>\n",
       "      <th>0.190456</th>\n",
       "      <td>0.175</td>\n",
       "    </tr>\n",
       "    <tr>\n",
       "      <th>0.243639</th>\n",
       "      <td>0.185</td>\n",
       "    </tr>\n",
       "    <tr>\n",
       "      <th>0.248881</th>\n",
       "      <td>0.195</td>\n",
       "    </tr>\n",
       "    <tr>\n",
       "      <th>0.260453</th>\n",
       "      <td>0.205</td>\n",
       "    </tr>\n",
       "    <tr>\n",
       "      <th>0.279020</th>\n",
       "      <td>0.215</td>\n",
       "    </tr>\n",
       "    <tr>\n",
       "      <th>0.292776</th>\n",
       "      <td>0.225</td>\n",
       "    </tr>\n",
       "    <tr>\n",
       "      <th>0.302368</th>\n",
       "      <td>0.235</td>\n",
       "    </tr>\n",
       "    <tr>\n",
       "      <th>0.306149</th>\n",
       "      <td>0.245</td>\n",
       "    </tr>\n",
       "    <tr>\n",
       "      <th>0.309961</th>\n",
       "      <td>0.255</td>\n",
       "    </tr>\n",
       "    <tr>\n",
       "      <th>0.314176</th>\n",
       "      <td>0.265</td>\n",
       "    </tr>\n",
       "    <tr>\n",
       "      <th>0.318990</th>\n",
       "      <td>0.275</td>\n",
       "    </tr>\n",
       "    <tr>\n",
       "      <th>0.338240</th>\n",
       "      <td>0.285</td>\n",
       "    </tr>\n",
       "    <tr>\n",
       "      <th>0.348451</th>\n",
       "      <td>0.295</td>\n",
       "    </tr>\n",
       "    <tr>\n",
       "      <th>...</th>\n",
       "      <td>...</td>\n",
       "    </tr>\n",
       "    <tr>\n",
       "      <th>0.938384</th>\n",
       "      <td>0.705</td>\n",
       "    </tr>\n",
       "    <tr>\n",
       "      <th>0.938985</th>\n",
       "      <td>0.715</td>\n",
       "    </tr>\n",
       "    <tr>\n",
       "      <th>0.948721</th>\n",
       "      <td>0.725</td>\n",
       "    </tr>\n",
       "    <tr>\n",
       "      <th>0.949245</th>\n",
       "      <td>0.735</td>\n",
       "    </tr>\n",
       "    <tr>\n",
       "      <th>0.991106</th>\n",
       "      <td>0.745</td>\n",
       "    </tr>\n",
       "    <tr>\n",
       "      <th>1.031884</th>\n",
       "      <td>0.755</td>\n",
       "    </tr>\n",
       "    <tr>\n",
       "      <th>1.065327</th>\n",
       "      <td>0.765</td>\n",
       "    </tr>\n",
       "    <tr>\n",
       "      <th>1.086059</th>\n",
       "      <td>0.775</td>\n",
       "    </tr>\n",
       "    <tr>\n",
       "      <th>1.124751</th>\n",
       "      <td>0.785</td>\n",
       "    </tr>\n",
       "    <tr>\n",
       "      <th>1.130180</th>\n",
       "      <td>0.795</td>\n",
       "    </tr>\n",
       "    <tr>\n",
       "      <th>1.140143</th>\n",
       "      <td>0.805</td>\n",
       "    </tr>\n",
       "    <tr>\n",
       "      <th>1.171512</th>\n",
       "      <td>0.815</td>\n",
       "    </tr>\n",
       "    <tr>\n",
       "      <th>1.182617</th>\n",
       "      <td>0.825</td>\n",
       "    </tr>\n",
       "    <tr>\n",
       "      <th>1.184478</th>\n",
       "      <td>0.835</td>\n",
       "    </tr>\n",
       "    <tr>\n",
       "      <th>1.494691</th>\n",
       "      <td>0.845</td>\n",
       "    </tr>\n",
       "    <tr>\n",
       "      <th>1.528933</th>\n",
       "      <td>0.855</td>\n",
       "    </tr>\n",
       "    <tr>\n",
       "      <th>1.616051</th>\n",
       "      <td>0.865</td>\n",
       "    </tr>\n",
       "    <tr>\n",
       "      <th>1.679767</th>\n",
       "      <td>0.875</td>\n",
       "    </tr>\n",
       "    <tr>\n",
       "      <th>2.154793</th>\n",
       "      <td>0.885</td>\n",
       "    </tr>\n",
       "    <tr>\n",
       "      <th>2.456063</th>\n",
       "      <td>0.895</td>\n",
       "    </tr>\n",
       "    <tr>\n",
       "      <th>2.485085</th>\n",
       "      <td>0.905</td>\n",
       "    </tr>\n",
       "    <tr>\n",
       "      <th>2.534503</th>\n",
       "      <td>0.915</td>\n",
       "    </tr>\n",
       "    <tr>\n",
       "      <th>2.556686</th>\n",
       "      <td>0.925</td>\n",
       "    </tr>\n",
       "    <tr>\n",
       "      <th>2.648655</th>\n",
       "      <td>0.935</td>\n",
       "    </tr>\n",
       "    <tr>\n",
       "      <th>2.776532</th>\n",
       "      <td>0.945</td>\n",
       "    </tr>\n",
       "    <tr>\n",
       "      <th>3.117262</th>\n",
       "      <td>0.955</td>\n",
       "    </tr>\n",
       "    <tr>\n",
       "      <th>3.166296</th>\n",
       "      <td>0.965</td>\n",
       "    </tr>\n",
       "    <tr>\n",
       "      <th>3.290174</th>\n",
       "      <td>0.975</td>\n",
       "    </tr>\n",
       "    <tr>\n",
       "      <th>4.017272</th>\n",
       "      <td>0.985</td>\n",
       "    </tr>\n",
       "    <tr>\n",
       "      <th>5.651270</th>\n",
       "      <td>0.995</td>\n",
       "    </tr>\n",
       "  </tbody>\n",
       "</table>\n",
       "<p>100 rows × 1 columns</p>\n",
       "</div>"
      ],
      "text/plain": [
       "              0\n",
       "0.012487  0.005\n",
       "0.022013  0.015\n",
       "0.030483  0.025\n",
       "0.044699  0.035\n",
       "0.049616  0.045\n",
       "0.062769  0.055\n",
       "0.063465  0.065\n",
       "0.073222  0.075\n",
       "0.095159  0.085\n",
       "0.110958  0.095\n",
       "0.112647  0.105\n",
       "0.113147  0.115\n",
       "0.130403  0.125\n",
       "0.135171  0.135\n",
       "0.148899  0.145\n",
       "0.160892  0.155\n",
       "0.181417  0.165\n",
       "0.190456  0.175\n",
       "0.243639  0.185\n",
       "0.248881  0.195\n",
       "0.260453  0.205\n",
       "0.279020  0.215\n",
       "0.292776  0.225\n",
       "0.302368  0.235\n",
       "0.306149  0.245\n",
       "0.309961  0.255\n",
       "0.314176  0.265\n",
       "0.318990  0.275\n",
       "0.338240  0.285\n",
       "0.348451  0.295\n",
       "...         ...\n",
       "0.938384  0.705\n",
       "0.938985  0.715\n",
       "0.948721  0.725\n",
       "0.949245  0.735\n",
       "0.991106  0.745\n",
       "1.031884  0.755\n",
       "1.065327  0.765\n",
       "1.086059  0.775\n",
       "1.124751  0.785\n",
       "1.130180  0.795\n",
       "1.140143  0.805\n",
       "1.171512  0.815\n",
       "1.182617  0.825\n",
       "1.184478  0.835\n",
       "1.494691  0.845\n",
       "1.528933  0.855\n",
       "1.616051  0.865\n",
       "1.679767  0.875\n",
       "2.154793  0.885\n",
       "2.456063  0.895\n",
       "2.485085  0.905\n",
       "2.534503  0.915\n",
       "2.556686  0.925\n",
       "2.648655  0.935\n",
       "2.776532  0.945\n",
       "3.117262  0.955\n",
       "3.166296  0.965\n",
       "3.290174  0.975\n",
       "4.017272  0.985\n",
       "5.651270  0.995\n",
       "\n",
       "[100 rows x 1 columns]"
      ]
     },
     "execution_count": 15,
     "metadata": {},
     "output_type": "execute_result"
    }
   ],
   "source": [
    "tabela = pd.DataFrame(data= fra, index = tempos)\n",
    "tabela"
   ]
  },
  {
   "cell_type": "code",
   "execution_count": 16,
   "metadata": {
    "collapsed": false
   },
   "outputs": [
    {
     "data": {
      "text/html": [
       "<div>\n",
       "<table border=\"1\" class=\"dataframe\">\n",
       "  <thead>\n",
       "    <tr style=\"text-align: right;\">\n",
       "      <th></th>\n",
       "      <th>0</th>\n",
       "    </tr>\n",
       "  </thead>\n",
       "  <tbody>\n",
       "    <tr>\n",
       "      <th>0.012487</th>\n",
       "      <td>0.012050</td>\n",
       "    </tr>\n",
       "    <tr>\n",
       "      <th>0.022013</th>\n",
       "      <td>0.021145</td>\n",
       "    </tr>\n",
       "    <tr>\n",
       "      <th>0.030483</th>\n",
       "      <td>0.029161</td>\n",
       "    </tr>\n",
       "    <tr>\n",
       "      <th>0.044699</th>\n",
       "      <td>0.042469</td>\n",
       "    </tr>\n",
       "    <tr>\n",
       "      <th>0.049616</th>\n",
       "      <td>0.047029</td>\n",
       "    </tr>\n",
       "    <tr>\n",
       "      <th>0.062769</th>\n",
       "      <td>0.059121</td>\n",
       "    </tr>\n",
       "    <tr>\n",
       "      <th>0.063465</th>\n",
       "      <td>0.059756</td>\n",
       "    </tr>\n",
       "    <tr>\n",
       "      <th>0.073222</th>\n",
       "      <td>0.068621</td>\n",
       "    </tr>\n",
       "    <tr>\n",
       "      <th>0.095159</th>\n",
       "      <td>0.088248</td>\n",
       "    </tr>\n",
       "    <tr>\n",
       "      <th>0.110958</th>\n",
       "      <td>0.102126</td>\n",
       "    </tr>\n",
       "    <tr>\n",
       "      <th>0.112647</th>\n",
       "      <td>0.103598</td>\n",
       "    </tr>\n",
       "    <tr>\n",
       "      <th>0.113147</th>\n",
       "      <td>0.104033</td>\n",
       "    </tr>\n",
       "    <tr>\n",
       "      <th>0.130403</th>\n",
       "      <td>0.118918</td>\n",
       "    </tr>\n",
       "    <tr>\n",
       "      <th>0.135171</th>\n",
       "      <td>0.122988</td>\n",
       "    </tr>\n",
       "    <tr>\n",
       "      <th>0.148899</th>\n",
       "      <td>0.134599</td>\n",
       "    </tr>\n",
       "    <tr>\n",
       "      <th>0.160892</th>\n",
       "      <td>0.144617</td>\n",
       "    </tr>\n",
       "    <tr>\n",
       "      <th>0.181417</th>\n",
       "      <td>0.161494</td>\n",
       "    </tr>\n",
       "    <tr>\n",
       "      <th>0.190456</th>\n",
       "      <td>0.168820</td>\n",
       "    </tr>\n",
       "    <tr>\n",
       "      <th>0.243639</th>\n",
       "      <td>0.210647</td>\n",
       "    </tr>\n",
       "    <tr>\n",
       "      <th>0.248881</th>\n",
       "      <td>0.214655</td>\n",
       "    </tr>\n",
       "    <tr>\n",
       "      <th>0.260453</th>\n",
       "      <td>0.223429</td>\n",
       "    </tr>\n",
       "    <tr>\n",
       "      <th>0.279020</th>\n",
       "      <td>0.237302</td>\n",
       "    </tr>\n",
       "    <tr>\n",
       "      <th>0.292776</th>\n",
       "      <td>0.247420</td>\n",
       "    </tr>\n",
       "    <tr>\n",
       "      <th>0.302368</th>\n",
       "      <td>0.254396</td>\n",
       "    </tr>\n",
       "    <tr>\n",
       "      <th>0.306149</th>\n",
       "      <td>0.257129</td>\n",
       "    </tr>\n",
       "    <tr>\n",
       "      <th>0.309961</th>\n",
       "      <td>0.259873</td>\n",
       "    </tr>\n",
       "    <tr>\n",
       "      <th>0.314176</th>\n",
       "      <td>0.262895</td>\n",
       "    </tr>\n",
       "    <tr>\n",
       "      <th>0.318990</th>\n",
       "      <td>0.266332</td>\n",
       "    </tr>\n",
       "    <tr>\n",
       "      <th>0.338240</th>\n",
       "      <td>0.279917</td>\n",
       "    </tr>\n",
       "    <tr>\n",
       "      <th>0.348451</th>\n",
       "      <td>0.287020</td>\n",
       "    </tr>\n",
       "    <tr>\n",
       "      <th>...</th>\n",
       "      <td>...</td>\n",
       "    </tr>\n",
       "    <tr>\n",
       "      <th>0.938384</th>\n",
       "      <td>0.597899</td>\n",
       "    </tr>\n",
       "    <tr>\n",
       "      <th>0.938985</th>\n",
       "      <td>0.598134</td>\n",
       "    </tr>\n",
       "    <tr>\n",
       "      <th>0.948721</th>\n",
       "      <td>0.601914</td>\n",
       "    </tr>\n",
       "    <tr>\n",
       "      <th>0.949245</th>\n",
       "      <td>0.602117</td>\n",
       "    </tr>\n",
       "    <tr>\n",
       "      <th>0.991106</th>\n",
       "      <td>0.617964</td>\n",
       "    </tr>\n",
       "    <tr>\n",
       "      <th>1.031884</th>\n",
       "      <td>0.632793</td>\n",
       "    </tr>\n",
       "    <tr>\n",
       "      <th>1.065327</th>\n",
       "      <td>0.644524</td>\n",
       "    </tr>\n",
       "    <tr>\n",
       "      <th>1.086059</th>\n",
       "      <td>0.651608</td>\n",
       "    </tr>\n",
       "    <tr>\n",
       "      <th>1.124751</th>\n",
       "      <td>0.664452</td>\n",
       "    </tr>\n",
       "    <tr>\n",
       "      <th>1.130180</th>\n",
       "      <td>0.666216</td>\n",
       "    </tr>\n",
       "    <tr>\n",
       "      <th>1.140143</th>\n",
       "      <td>0.669429</td>\n",
       "    </tr>\n",
       "    <tr>\n",
       "      <th>1.171512</th>\n",
       "      <td>0.679345</td>\n",
       "    </tr>\n",
       "    <tr>\n",
       "      <th>1.182617</th>\n",
       "      <td>0.682784</td>\n",
       "    </tr>\n",
       "    <tr>\n",
       "      <th>1.184478</th>\n",
       "      <td>0.683357</td>\n",
       "    </tr>\n",
       "    <tr>\n",
       "      <th>1.494691</th>\n",
       "      <td>0.765701</td>\n",
       "    </tr>\n",
       "    <tr>\n",
       "      <th>1.528933</th>\n",
       "      <td>0.773362</td>\n",
       "    </tr>\n",
       "    <tr>\n",
       "      <th>1.616051</th>\n",
       "      <td>0.791743</td>\n",
       "    </tr>\n",
       "    <tr>\n",
       "      <th>1.679767</th>\n",
       "      <td>0.804235</td>\n",
       "    </tr>\n",
       "    <tr>\n",
       "      <th>2.154793</th>\n",
       "      <td>0.876564</td>\n",
       "    </tr>\n",
       "    <tr>\n",
       "      <th>2.456063</th>\n",
       "      <td>0.907867</td>\n",
       "    </tr>\n",
       "    <tr>\n",
       "      <th>2.485085</th>\n",
       "      <td>0.910427</td>\n",
       "    </tr>\n",
       "    <tr>\n",
       "      <th>2.534503</th>\n",
       "      <td>0.914623</td>\n",
       "    </tr>\n",
       "    <tr>\n",
       "      <th>2.556686</th>\n",
       "      <td>0.916442</td>\n",
       "    </tr>\n",
       "    <tr>\n",
       "      <th>2.648655</th>\n",
       "      <td>0.923580</td>\n",
       "    </tr>\n",
       "    <tr>\n",
       "      <th>2.776532</th>\n",
       "      <td>0.932502</td>\n",
       "    </tr>\n",
       "    <tr>\n",
       "      <th>3.117262</th>\n",
       "      <td>0.951513</td>\n",
       "    </tr>\n",
       "    <tr>\n",
       "      <th>3.166296</th>\n",
       "      <td>0.953768</td>\n",
       "    </tr>\n",
       "    <tr>\n",
       "      <th>3.290174</th>\n",
       "      <td>0.959007</td>\n",
       "    </tr>\n",
       "    <tr>\n",
       "      <th>4.017272</th>\n",
       "      <td>0.979763</td>\n",
       "    </tr>\n",
       "    <tr>\n",
       "      <th>5.651270</th>\n",
       "      <td>0.995858</td>\n",
       "    </tr>\n",
       "  </tbody>\n",
       "</table>\n",
       "<p>100 rows × 1 columns</p>\n",
       "</div>"
      ],
      "text/plain": [
       "                 0\n",
       "0.012487  0.012050\n",
       "0.022013  0.021145\n",
       "0.030483  0.029161\n",
       "0.044699  0.042469\n",
       "0.049616  0.047029\n",
       "0.062769  0.059121\n",
       "0.063465  0.059756\n",
       "0.073222  0.068621\n",
       "0.095159  0.088248\n",
       "0.110958  0.102126\n",
       "0.112647  0.103598\n",
       "0.113147  0.104033\n",
       "0.130403  0.118918\n",
       "0.135171  0.122988\n",
       "0.148899  0.134599\n",
       "0.160892  0.144617\n",
       "0.181417  0.161494\n",
       "0.190456  0.168820\n",
       "0.243639  0.210647\n",
       "0.248881  0.214655\n",
       "0.260453  0.223429\n",
       "0.279020  0.237302\n",
       "0.292776  0.247420\n",
       "0.302368  0.254396\n",
       "0.306149  0.257129\n",
       "0.309961  0.259873\n",
       "0.314176  0.262895\n",
       "0.318990  0.266332\n",
       "0.338240  0.279917\n",
       "0.348451  0.287020\n",
       "...            ...\n",
       "0.938384  0.597899\n",
       "0.938985  0.598134\n",
       "0.948721  0.601914\n",
       "0.949245  0.602117\n",
       "0.991106  0.617964\n",
       "1.031884  0.632793\n",
       "1.065327  0.644524\n",
       "1.086059  0.651608\n",
       "1.124751  0.664452\n",
       "1.130180  0.666216\n",
       "1.140143  0.669429\n",
       "1.171512  0.679345\n",
       "1.182617  0.682784\n",
       "1.184478  0.683357\n",
       "1.494691  0.765701\n",
       "1.528933  0.773362\n",
       "1.616051  0.791743\n",
       "1.679767  0.804235\n",
       "2.154793  0.876564\n",
       "2.456063  0.907867\n",
       "2.485085  0.910427\n",
       "2.534503  0.914623\n",
       "2.556686  0.916442\n",
       "2.648655  0.923580\n",
       "2.776532  0.932502\n",
       "3.117262  0.951513\n",
       "3.166296  0.953768\n",
       "3.290174  0.959007\n",
       "4.017272  0.979763\n",
       "5.651270  0.995858\n",
       "\n",
       "[100 rows x 1 columns]"
      ]
     },
     "execution_count": 16,
     "metadata": {},
     "output_type": "execute_result"
    }
   ],
   "source": [
    "\n",
    "\n",
    "tabela2= pd.DataFrame(data= fda, index = tempos)\n",
    "tabela2"
   ]
  },
  {
   "cell_type": "code",
   "execution_count": 17,
   "metadata": {
    "collapsed": true
   },
   "outputs": [],
   "source": [
    "#1.3\n",
    "\n",
    "# percentil de lojas que demoram mais de uma segundo para abrir o site = 1 - 0.745. A probabilidade do evento acontecer ´1 - 0.63 \n",
    "# Os resultados deveriam ser iguais , uma vez que um é a frequencia relativa acumulada, que seriam os dados reais, e o outro ´a funçao\n",
    "# da distribuição acumulada que é reflexo do modelo implementado\n",
    "\n",
    "#1.4 Um modelo probabilistico é interessante, por mais que vc ja tenha dados experimentais, para prever futuros dados e inferir hipoteses "
   ]
  },
  {
   "cell_type": "markdown",
   "metadata": {},
   "source": [
    "Considerando os gráficos anteriores, descreva se há indícios de concordância entre modelo teórico e dados (amostra simulada). Note que seus argumentos devem ser respaldados em cada resultado gráfico.\n",
    "\n",
    "1.3. Qual o % de lojas na amostra que demoram mais do que um segundo para abrir o site? E qual a probabilidade desse resultado acontecer? Esses resultados deveriam ser iguais? Por quê?\n",
    "\n",
    "1.4. **Na prática, qual a necessidade de um modelo probabilístico já que se têm os dados observados?**\n",
    "\n",
    "2) Há outros modelos probabilísticos contínuos:\n",
    "\n",
    "* Uniforme\n",
    "* Normal\n",
    "* Gamma\n",
    "* t-Student\n",
    "* LogNormal\n",
    "* Beta\n",
    "* F-Snedecor\n",
    "\n",
    "\n",
    "Cada grupo de alunos deve ficar com uma distribuição e deve realizar as seguintes atividades (**num IPython Notebook à parte**, que deve ser publicado no **Github** e ter seu link divulgado para a sala até 24/9):\n",
    "\n",
    "\n",
    "2.1. Gere um plot da densidade de probabilidade da distribuição e de sua cumulativa. Descubra como usando o pacote scipy.stats\n",
    "\n",
    "2.2. Qual a forma analítica (expressão) da distribuição?\n",
    "\n",
    "2.3. Quais parâmetros descrevem a distribuição?\n",
    "\n",
    "2.4. Existe uma fórmula específica para calcular esperança (média) e variáncia em função dos parâmetros?\n",
    "\n",
    "2.5. Que tipo de aplicações tem esta distribuição? Em que tipo de dados é normalmente encontrada?\n",
    "\n",
    "2.6. Essa distribuição é útil para a inferência estatística? (Os Capítulos 7 e 8 do Magalhães darão uma idéia de se sim ou não)\n"
   ]
  },
  {
   "cell_type": "code",
   "execution_count": null,
   "metadata": {
    "collapsed": true
   },
   "outputs": [],
   "source": []
  },
  {
   "cell_type": "code",
   "execution_count": null,
   "metadata": {
    "collapsed": true
   },
   "outputs": [],
   "source": []
  },
  {
   "cell_type": "code",
   "execution_count": null,
   "metadata": {
    "collapsed": false
   },
   "outputs": [],
   "source": []
  },
  {
   "cell_type": "code",
   "execution_count": 18,
   "metadata": {
    "collapsed": false
   },
   "outputs": [
    {
     "data": {
      "image/png": "[encoded data removed]",
      "text/plain": [
       "<matplotlib.figure.Figure at 0x89c15c0>"
      ]
     },
     "metadata": {},
     "output_type": "display_data"
    }
   ],
   "source": [
    "#2.1\n",
    "from scipy.stats import f\n",
    "import matplotlib.pyplot as plt\n",
    "import numpy as np\n",
    "fig, ax = plt.subplots(1, 1)\n",
    "\n",
    "\n",
    "dfn, dfd = 29, 18\n",
    "mean, var, skew, kurt = f.stats(dfn, dfd, moments='mvsk')\n",
    "\n",
    "#Display the probability density function (pdf):\n",
    "\n",
    "x = np.linspace(f.ppf(0.01, dfn, dfd), f.ppf(0.99, dfn, dfd), 100)\n",
    "ax.plot(x, f.pdf(x, dfn, dfd),'r-', lw=5, alpha=0.6, label='f pdf')\n",
    "#Alternatively, freeze the distribution and display the frozen pdf:\n",
    "\n",
    "rv = f(dfn, dfd)\n",
    "ax.plot(x, rv.pdf(x), 'k-', lw=2, label='frozen pdf')\n",
    "\n",
    "#Check accuracy of cdf and ppf:\n",
    "\n",
    "\n",
    "vals = f.ppf([0.001, 0.5, 0.999], dfn, dfd)\n",
    "np.allclose([0.001, 0.5, 0.999], f.cdf(vals, dfn, dfd))\n",
    "\n",
    "#Generate random numbers:\n",
    "\n",
    "\n",
    "r = f.rvs(dfn, dfd, size=1000)"
   ]
  },
  {
   "cell_type": "code",
   "execution_count": null,
   "metadata": {
    "collapsed": false
   },
   "outputs": [],
   "source": [
    "#2.2\n",
    "f(x)= (T[m+n/2]*(m/n)**m/2*x**m/2-1)/T[m/2]*T[n/2]*[m/n]*n+1]**m+n/2"
   ]
  },
  {
   "cell_type": "code",
   "execution_count": null,
   "metadata": {
    "collapsed": true
   },
   "outputs": [],
   "source": [
    "#2.3\n",
    "os paramentros que descrevem a função são m e n"
   ]
  },
  {
   "cell_type": "code",
   "execution_count": null,
   "metadata": {
    "collapsed": true
   },
   "outputs": [],
   "source": [
    "#2.4\n",
    "E(x)=n/(n-2) </span><fontsize = \"2\"> se n>2"
   ]
  },
  {
   "cell_type": "code",
   "execution_count": null,
   "metadata": {
    "collapsed": true
   },
   "outputs": [],
   "source": [
    "#2.5\n",
    "f snedecor é uma distribuição que exerce um papel importante na inferencia estatistica. \n",
    "Ela é utilizada para desdenvolver  regiões criticas, para hipoteses testadas e \n",
    "para construir intervalos confiaveis"
   ]
  },
  {
   "cell_type": "code",
   "execution_count": null,
   "metadata": {
    "collapsed": true
   },
   "outputs": [],
   "source": [
    "#2.6\n",
    "Essa distribuição é util para inferencias estatisticas"
   ]
  }
 ],
 "metadata": {
  "kernelspec": {
   "display_name": "Python 3",
   "language": "python",
   "name": "python3"
  },
  "language_info": {
   "codemirror_mode": {
    "name": "ipython",
    "version": 3
   },
   "file_extension": ".py",
   "mimetype": "text/x-python",
   "name": "python",
   "nbconvert_exporter": "python",
   "pygments_lexer": "ipython3",
   "version": "3.4.3"
  }
 },
 "nbformat": 4,
 "nbformat_minor": 0
}
